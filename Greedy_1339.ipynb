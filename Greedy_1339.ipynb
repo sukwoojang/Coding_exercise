{
 "cells": [
  {
   "cell_type": "markdown",
   "metadata": {},
   "source": [
    "## 문제\n",
    "민식이는 수학학원에서 단어 수학 문제를 푸는 숙제를 받았다.\n",
    "\n",
    "단어 수학 문제는 N개의 단어로 이루어져 있으며, 각 단어는 알파벳 대문자로만 이루어져 있다. 이때, 각 알파벳 대문자를 0부터 9까지의 숫자 중 하나로 바꿔서 N개의 수를 합하는 문제이다. 같은 알파벳은 같은 숫자로 바꿔야 하며, 두 개 이상의 알파벳이 같은 숫자로 바뀌어지면 안 된다.\n",
    "\n",
    "예를 들어, GCF + ACDEB를 계산한다고 할 때, A = 9, B = 4, C = 8, D = 6, E = 5, F = 3, G = 7로 결정한다면, 두 수의 합은 99437이 되어서 최대가 될 것이다.\n",
    "\n",
    "N개의 단어가 주어졌을 때, 그 수의 합을 최대로 만드는 프로그램을 작성하시오.\n",
    "\n",
    "## 입력\n",
    "첫째 줄에 단어의 개수 N(1 ≤ N ≤ 10)이 주어진다. 둘째 줄부터 N개의 줄에 단어가 한 줄에 하나씩 주어진다. 단어는 알파벳 대문자로만 이루어져있다. 모든 단어에 포함되어 있는 알파벳은 최대 10개이고, 수의 최대 길이는 8이다. 서로 다른 문자는 서로 다른 숫자를 나타낸다.\n",
    "\n",
    "## 출력\n",
    "첫째 줄에 주어진 단어의 합의 최댓값을 출력한다.\n",
    "\n",
    "## 예제 입력 1 \n",
    "2<br>\n",
    "AAA<br>\n",
    "AAA\n",
    "## 예제 출력 1 \n",
    "1998\n",
    "## 예제 입력 2 \n",
    "2<br>\n",
    "GCF<br>\n",
    "ACDEB\n",
    "## 예제 출력 2 \n",
    "99437\n",
    "## 예제 입력 3 \n",
    "10<br>\n",
    "A<br>\n",
    "B<br>\n",
    "C<br>\n",
    "D<br>\n",
    "E<br>\n",
    "F<br>\n",
    "G<br>\n",
    "H<br>\n",
    "I<br>\n",
    "J\n",
    "## 예제 출력 3 \n",
    "45\n",
    "## 예제 입력 4 \n",
    "2<br>\n",
    "AB<br>\n",
    "BA\n",
    "## 예제 출력 4 \n",
    "187"
   ]
  },
  {
   "cell_type": "code",
   "execution_count": 17,
   "metadata": {},
   "outputs": [
    {
     "name": "stdout",
     "output_type": "stream",
     "text": [
      "2\n",
      "AAA\n",
      "AAA\n",
      "1998\n"
     ]
    }
   ],
   "source": [
    "import operator\n",
    "N = int(input())\n",
    "words = []\n",
    "chardic = {}\n",
    "for i in range(N):\n",
    "    words.append(input())\n",
    "for word in words:\n",
    "    for i in range(len(word)):\n",
    "        if word[i] not in chardic:\n",
    "            chardic[word[i]] = pow(10, len(word)-i-1)\n",
    "        else:\n",
    "            chardic[word[i]] += pow(10, len(word)-i-1)\n",
    "chardic = sorted(chardic.items(), key = operator.itemgetter(1), reverse=True)\n",
    "num = 9\n",
    "result = 0\n",
    "for i in chardic:\n",
    "    result += i[1] * num\n",
    "    num -= 1\n",
    "print(result)"
   ]
  },
  {
   "cell_type": "code",
   "execution_count": null,
   "metadata": {},
   "outputs": [],
   "source": []
  }
 ],
 "metadata": {
  "kernelspec": {
   "display_name": "Python 3",
   "language": "python",
   "name": "python3"
  },
  "language_info": {
   "codemirror_mode": {
    "name": "ipython",
    "version": 3
   },
   "file_extension": ".py",
   "mimetype": "text/x-python",
   "name": "python",
   "nbconvert_exporter": "python",
   "pygments_lexer": "ipython3",
   "version": "3.8.3"
  }
 },
 "nbformat": 4,
 "nbformat_minor": 4
}
