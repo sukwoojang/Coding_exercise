{
 "cells": [
  {
   "cell_type": "markdown",
   "metadata": {},
   "source": [
    "## 문제\n",
    "0과 1로만 이루어진 행렬 A와 행렬 B가 있다. 이때, 행렬 A를 행렬 B로 바꾸는데 필요한 연산의 횟수의 최솟값을 구하는 프로그램을 작성하시오.\n",
    "\n",
    "행렬을 변환하는 연산은 어떤 3*3크기의 부분 행렬에 있는 모든 원소를 뒤집는 것이다. (0 -> 1, 1 -> 0)\n",
    "\n",
    "## 입력\n",
    "첫째 줄에 행렬의 크기 N M이 주어진다. N과 M은 50보다 작거나 같은 자연수이다. 둘째 줄부터 N개의 줄에는 행렬 A가 주어지고, 그 다음줄부터 N개의 줄에는 행렬 B가 주어진다.\n",
    "\n",
    "## 출력\n",
    "첫째 줄에 문제의 정답을 출력한다. 만약 A를 B로 바꿀 수 없다면 -1을 출력한다.\n",
    "\n",
    "## 예제 입력 1 \n",
    "3 4<br>\n",
    "0000<br>\n",
    "0010<br>\n",
    "0000<br>\n",
    "1001<br>\n",
    "1011<br>\n",
    "1001\n",
    "## 예제 출력 1 \n",
    "2"
   ]
  },
  {
   "cell_type": "code",
   "execution_count": 8,
   "metadata": {},
   "outputs": [
    {
     "name": "stdout",
     "output_type": "stream",
     "text": [
      "3 4\n",
      "0000\n",
      "0010\n",
      "0000\n",
      "1001\n",
      "1011\n",
      "1001\n",
      "2\n"
     ]
    }
   ],
   "source": [
    "def flip(x, y):\n",
    "    for i in range(x,x+3):\n",
    "        for j in range(y,y+3):\n",
    "            A[i][j] = 1 - A[i][j]\n",
    "\n",
    "N, M = map(int, input().split())\n",
    "A = []\n",
    "B = []\n",
    "cnt = 0\n",
    "for i in range(N):\n",
    "    A.append(list(map(int, input())))\n",
    "    \n",
    "for i in range(N):\n",
    "    B.append(list(map(int, input())))\n",
    "for i in range(0,N-2):\n",
    "    for j in range(0,M-2):\n",
    "        if A[i][j] != B[i][j]:\n",
    "            flip(i,j)\n",
    "            cnt += 1\n",
    "if A == B:\n",
    "    print(cnt)\n",
    "else:\n",
    "    print(-1)"
   ]
  },
  {
   "cell_type": "code",
   "execution_count": null,
   "metadata": {},
   "outputs": [],
   "source": []
  }
 ],
 "metadata": {
  "kernelspec": {
   "display_name": "Python 3",
   "language": "python",
   "name": "python3"
  },
  "language_info": {
   "codemirror_mode": {
    "name": "ipython",
    "version": 3
   },
   "file_extension": ".py",
   "mimetype": "text/x-python",
   "name": "python",
   "nbconvert_exporter": "python",
   "pygments_lexer": "ipython3",
   "version": "3.8.3"
  }
 },
 "nbformat": 4,
 "nbformat_minor": 4
}
