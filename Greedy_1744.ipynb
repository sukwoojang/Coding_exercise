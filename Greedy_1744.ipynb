{
 "cells": [
  {
   "cell_type": "markdown",
   "metadata": {},
   "source": [
    "## 문제\n",
    "길이가 N인 수열이 주어졌을 때, 그 수열의 합을 구하려고 한다. 하지만, 그냥 그 수열의 합을 모두 더해서 구하는 것이 아니라, 수열의 두 수를 묶으려고 한다. 어떤 수를 묶으려고 할 때, 위치에 상관없이 묶을 수 있다. 하지만, 같은 위치에 있는 수(자기 자신)를 묶는 것은 불가능하다. 그리고 어떤 수를 묶게 되면, 수열의 합을 구할 때 묶은 수는 서로 곱한 후에 더한다.\n",
    "\n",
    "예를 들면, 어떤 수열이 {0, 1, 2, 4, 3, 5}일 때, 그냥 이 수열의 합을 구하면 0+1+2+4+3+5 = 15이다. 하지만, 2와 3을 묶고, 4와 5를 묶게 되면, 0+1+(2*3)+(4*5) = 27이 되어 최대가 된다.\n",
    "\n",
    "수열의 모든 수는 단 한번만 묶거나, 아니면 묶지 않아야한다.\n",
    "\n",
    "수열이 주어졌을 때, 수열의 각 수를 적절히 묶었을 때, 그 합이 최대가 되게 하는 프로그램을 작성하시오.\n",
    "\n",
    "## 입력\n",
    "첫째 줄에 수열의 크기 N이 주어진다. N은 10,000보다 작다. 둘째 줄부터 N개의 줄에, 수열의 각 수가 주어진다. 수열의 수는 -10,000보다 크거나 같고, 10,000보다 작거나 같은 정수이다.\n",
    "\n",
    "## 출력\n",
    "수를 합이 최대가 나오게 묶었을 때 합을 출력한다. 정답은 항상 231보다 작다.\n",
    "\n",
    "## 예제 입력 1 \n",
    "4<br>\n",
    "-1<br>\n",
    "2<br>\n",
    "1<br>\n",
    "3\n",
    "## 예제 출력 1 \n",
    "6"
   ]
  },
  {
   "cell_type": "code",
   "execution_count": 24,
   "metadata": {},
   "outputs": [
    {
     "name": "stdout",
     "output_type": "stream",
     "text": [
      "4\n",
      "-1\n",
      "2\n",
      "1\n",
      "3\n",
      "6\n"
     ]
    }
   ],
   "source": [
    "N = int(input())\n",
    "numbers = [int(input()) for i in range(N)]\n",
    "result = 0\n",
    "if 1 in numbers:\n",
    "    result += numbers.count(1)\n",
    "plus = [x for x in numbers if x > 1]\n",
    "minus = [x for x in numbers if x <= 0]\n",
    "minus.sort()\n",
    "plus.sort(reverse=True)\n",
    "result_plus = 0\n",
    "result_minus = 0\n",
    "for i in range(0,len(plus),2):\n",
    "    if i+1 > len(plus) - 1:\n",
    "        result_plus += plus[i]\n",
    "        break\n",
    "    result_plus += plus[i] * plus[i+1]\n",
    "    \n",
    "for j in range(0,len(minus),2):\n",
    "    if j+1 > len(minus) - 1:\n",
    "        result_minus += minus[j]\n",
    "        break\n",
    "    result_minus += minus[j] * minus[j+1]\n",
    "result += result_minus + result_plus\n",
    "print(result)"
   ]
  },
  {
   "cell_type": "code",
   "execution_count": null,
   "metadata": {},
   "outputs": [],
   "source": []
  }
 ],
 "metadata": {
  "kernelspec": {
   "display_name": "Python 3",
   "language": "python",
   "name": "python3"
  },
  "language_info": {
   "codemirror_mode": {
    "name": "ipython",
    "version": 3
   },
   "file_extension": ".py",
   "mimetype": "text/x-python",
   "name": "python",
   "nbconvert_exporter": "python",
   "pygments_lexer": "ipython3",
   "version": "3.8.3"
  }
 },
 "nbformat": 4,
 "nbformat_minor": 4
}
