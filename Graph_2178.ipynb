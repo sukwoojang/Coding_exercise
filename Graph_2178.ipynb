{
 "cells": [
  {
   "cell_type": "markdown",
   "metadata": {},
   "source": [
    "## 문제\n",
    "N×M크기의 배열로 표현되는 미로가 있다.\n",
    "\n",
    "1\t0\t1\t1\t1\t1<br>\n",
    "1\t0\t1\t0\t1\t0<br>\n",
    "1\t0\t1\t0\t1\t1<br>\n",
    "1\t1\t1\t0\t1\t1<br>\n",
    "미로에서 1은 이동할 수 있는 칸을 나타내고, 0은 이동할 수 없는 칸을 나타낸다. 이러한 미로가 주어졌을 때, (1, 1)에서 출발하여 (N, M)의 위치로 이동할 때 지나야 하는 최소의 칸 수를 구하는 프로그램을 작성하시오. 한 칸에서 다른 칸으로 이동할 때, 서로 인접한 칸으로만 이동할 수 있다.\n",
    "\n",
    "위의 예에서는 15칸을 지나야 (N, M)의 위치로 이동할 수 있다. 칸을 셀 때에는 시작 위치와 도착 위치도 포함한다.\n",
    "\n",
    "## 입력\n",
    "첫째 줄에 두 정수 N, M(2 ≤ N, M ≤ 100)이 주어진다. 다음 N개의 줄에는 M개의 정수로 미로가 주어진다. 각각의 수들은 붙어서 입력으로 주어진다.\n",
    "\n",
    "## 출력\n",
    "첫째 줄에 지나야 하는 최소의 칸 수를 출력한다. 항상 도착위치로 이동할 수 있는 경우만 입력으로 주어진다.\n",
    "\n",
    "## 예제 입력 1 \n",
    "4 6<br>\n",
    "101111<br>\n",
    "101010<br>\n",
    "101011<br>\n",
    "111011\n",
    "## 예제 출력 1 \n",
    "15\n",
    "## 예제 입력 2 \n",
    "4 6<br>\n",
    "110110<br>\n",
    "110110<br>\n",
    "111111<br>\n",
    "111101\n",
    "## 예제 출력 2 \n",
    "9\n",
    "## 예제 입력 3 \n",
    "2 25<br>\n",
    "1011101110111011101110111<br>\n",
    "1110111011101110111011101\n",
    "## 예제 출력 3 \n",
    "38\n",
    "## 예제 입력 4 \n",
    "7 7<br>\n",
    "1011111<br>\n",
    "1110001<br>\n",
    "1000001<br>\n",
    "1000001<br>\n",
    "1000001<br>\n",
    "1000001<br>\n",
    "1111111\n",
    "## 예제 출력 4 \n",
    "13"
   ]
  },
  {
   "cell_type": "code",
   "execution_count": 11,
   "metadata": {},
   "outputs": [
    {
     "name": "stdout",
     "output_type": "stream",
     "text": [
      "4 6\n",
      "101111\n",
      "101010\n",
      "101011\n",
      "111011\n",
      "15\n"
     ]
    }
   ],
   "source": [
    "N, M = map(int, input().split())\n",
    "maze = [[] for i in range(N)]\n",
    "for i in range(N):\n",
    "    line = input()\n",
    "    for j in line:\n",
    "        maze[i].append(int(j))\n",
    "\n",
    "def is_adj(i,j):\n",
    "    adjlist = [[i+1,j],[i,j+1],[i-1,j],[i,j-1]]\n",
    "    return adjlist\n",
    "\n",
    "visited = [[0,0]]\n",
    "queue = [[0,0]]\n",
    "dist = [[0]*M for i in range(N)]\n",
    "dist[0][0] = 1\n",
    "while queue:\n",
    "    i,j = queue.pop(0)\n",
    "    for adj in is_adj(i,j):\n",
    "        adj_i, adj_j = adj\n",
    "        if 0 <= adj_i < N and 0 <= adj_j <M:\n",
    "            if maze[adj_i][adj_j] == 1 and adj not in visited:\n",
    "                visited.append(adj)\n",
    "                queue.append(adj)\n",
    "                dist[adj_i][adj_j] = dist[i][j] + 1\n",
    "print(dist[N-1][M-1])\n",
    "    "
   ]
  },
  {
   "cell_type": "code",
   "execution_count": 8,
   "metadata": {},
   "outputs": [
    {
     "data": {
      "text/plain": [
       "[[1, 0, 1, 1, 1, 1],\n",
       " [1, 0, 1, 0, 1, 0],\n",
       " [1, 0, 1, 0, 1, 1],\n",
       " [1, 1, 1, 0, 1, 1]]"
      ]
     },
     "execution_count": 8,
     "metadata": {},
     "output_type": "execute_result"
    }
   ],
   "source": [
    "visited"
   ]
  },
  {
   "cell_type": "code",
   "execution_count": null,
   "metadata": {},
   "outputs": [],
   "source": [
    " "
   ]
  }
 ],
 "metadata": {
  "kernelspec": {
   "display_name": "Python 3",
   "language": "python",
   "name": "python3"
  },
  "language_info": {
   "codemirror_mode": {
    "name": "ipython",
    "version": 3
   },
   "file_extension": ".py",
   "mimetype": "text/x-python",
   "name": "python",
   "nbconvert_exporter": "python",
   "pygments_lexer": "ipython3",
   "version": "3.8.3"
  }
 },
 "nbformat": 4,
 "nbformat_minor": 4
}
