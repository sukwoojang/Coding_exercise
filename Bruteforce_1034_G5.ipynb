{
 "cells": [
  {
   "cell_type": "markdown",
   "metadata": {},
   "source": [
    "## 문제\n",
    "지민이는 각 칸마다 (1*1크기의 정사각형) 램프가 들어있는 직사각형 모양의 탁자를 샀다. 모든 램프는 켜져있거나 꺼져있다. 각 열의 아래에는 스위치가 하나씩 달려있는데, 이 스위치를 누를 때마다 그 열에 있는 램프의 상태가 바뀐다. (켜져있는 램프는 꺼지고, 꺼져있는 램프는 켜진다)\n",
    "\n",
    "만약 어떤 행에 있는 램프가 모두 켜져있을 때, 그 행이 켜져있다고 말한다. 지민이는 스위치를 K번 누를 것이다. 서로다른 스위치 K개를 누르지 않아도 된다. 지민이는 스위치를 K번 눌러서 켜져있는 행을 최대로 하려고 한다.\n",
    "\n",
    "지민이의 탁자에 있는 램프의 상태와 K가 주어졌을 때, 스위치를 K번 누른 후에 켜져있는 행의 최댓값을 구하는 프로그램을 작성하시오.\n",
    "\n",
    "## 입력\n",
    "첫째 줄에 N과 M이 주어진다. N은 행의 개수이고, M은 열의 개수이다. N과 M은 50보다 작거나 같은 자연수이다. 둘째 줄부터 N개의 줄에는 램프의 상태가 주어진다. 1이 켜져있는 상태이고, 0이 꺼져있는 상태이다. 마지막 줄에는 K가 주어진다. K는 1,000보다 작거나 같은 자연수 또는 0이다.\n",
    "\n",
    "## 출력\n",
    "첫째 줄에 문제의 정답을 출력한다.\n",
    "\n",
    "## 예제 입력 1 \n",
    "3 2<br>\n",
    "01<br>\n",
    "10<br>\n",
    "10<br>\n",
    "1\n",
    "## 예제 출력 1 \n",
    "2"
   ]
  },
  {
   "cell_type": "code",
   "execution_count": 35,
   "metadata": {},
   "outputs": [
    {
     "name": "stdout",
     "output_type": "stream",
     "text": [
      "3 2\n",
      "00\n",
      "00\n",
      "00\n",
      "1\n",
      "0\n"
     ]
    }
   ],
   "source": [
    "from collections import Counter\n",
    "\n",
    "n, m = map(int, input().split())\n",
    "lamps = [input() for i in range(n)]\n",
    "k = int(input())\n",
    "\n",
    "cntdict = Counter(lamps)\n",
    "for i in range(len(cntdict)):\n",
    "    mostline, cnt = cntdict.most_common()[i]\n",
    "    nn = mostline.count('0')\n",
    "    if k >= nn:\n",
    "        if k%2 == nn%2:\n",
    "            print(cnt)\n",
    "            break\n",
    "    cnt = 0\n",
    "    \n",
    "if cnt == 0:\n",
    "    print(cnt)\n",
    "        "
   ]
  },
  {
   "cell_type": "code",
   "execution_count": 31,
   "metadata": {},
   "outputs": [
    {
     "data": {
      "text/plain": [
       "('10', 2)"
      ]
     },
     "execution_count": 31,
     "metadata": {},
     "output_type": "execute_result"
    }
   ],
   "source": [
    "cntdict.most_common()[0]"
   ]
  },
  {
   "cell_type": "markdown",
   "metadata": {},
   "source": [
    "각 행에 대해, 그 행의 전구를 켜려면 그 행에서 꺼져있는 열을 전부 눌러야합니다. 잘 생각해보면 결국 초기 상태가 다른 행 i, j는 절대 동시에 켜져있는 행이 될 수 없습니다. 그렇기 때문에 K번 눌러 켜져있게 만들 수 있는 행들에 대해, 초기 상태가 가장 많이 동일한 것의 갯수를 반환하면 됩니다.\n",
    "\n",
    "\n",
    "\n",
    "특정 행이 K번 눌러 켜져있게 만들 수 있는지 판단하는 방법은\n",
    "\n",
    "* 그 행에 있는 0의 갯수와 K가 2로 나눈 나머지가 동일한가?\n",
    "\n",
    "* 그 행에 있는 0의 갯수가 K 이하인가?<br>\n",
    "\n",
    "이 두가지를 살펴보면 됩니다.\n",
    "\n"
   ]
  },
  {
   "cell_type": "code",
   "execution_count": null,
   "metadata": {},
   "outputs": [],
   "source": []
  }
 ],
 "metadata": {
  "kernelspec": {
   "display_name": "Python 3",
   "language": "python",
   "name": "python3"
  },
  "language_info": {
   "codemirror_mode": {
    "name": "ipython",
    "version": 3
   },
   "file_extension": ".py",
   "mimetype": "text/x-python",
   "name": "python",
   "nbconvert_exporter": "python",
   "pygments_lexer": "ipython3",
   "version": "3.8.3"
  }
 },
 "nbformat": 4,
 "nbformat_minor": 4
}
