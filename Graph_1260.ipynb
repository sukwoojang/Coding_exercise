{
 "cells": [
  {
   "cell_type": "markdown",
   "metadata": {},
   "source": [
    "## 문제\n",
    "그래프를 DFS로 탐색한 결과와 BFS로 탐색한 결과를 출력하는 프로그램을 작성하시오. 단, 방문할 수 있는 정점이 여러 개인 경우에는 정점 번호가 작은 것을 먼저 방문하고, 더 이상 방문할 수 있는 점이 없는 경우 종료한다. 정점 번호는 1번부터 N번까지이다.\n",
    "\n",
    "## 입력\n",
    "첫째 줄에 정점의 개수 N(1 ≤ N ≤ 1,000), 간선의 개수 M(1 ≤ M ≤ 10,000), 탐색을 시작할 정점의 번호 V가 주어진다. 다음 M개의 줄에는 간선이 연결하는 두 정점의 번호가 주어진다. 어떤 두 정점 사이에 여러 개의 간선이 있을 수 있다. 입력으로 주어지는 간선은 양방향이다.\n",
    "\n",
    "## 출력\n",
    "첫째 줄에 DFS를 수행한 결과를, 그 다음 줄에는 BFS를 수행한 결과를 출력한다. V부터 방문된 점을 순서대로 출력하면 된다.\n",
    "\n",
    "## 예제 입력 1 \n",
    "4 5 1<br>\n",
    "1 2<br>\n",
    "1 3<br>\n",
    "1 4<br>\n",
    "2 4<br>\n",
    "3 4\n",
    "## 예제 출력 1 \n",
    "1 2 4 3<br>\n",
    "1 2 3 4\n",
    "## 예제 입력 2 \n",
    "5 5 3<br>\n",
    "5 4<br>\n",
    "5 2<br>\n",
    "1 2<br>\n",
    "3 4<br>\n",
    "3 1\n",
    "## 예제 출력 2 \n",
    "3 1 2 5 4<br>\n",
    "3 1 4 2 5\n",
    "## 예제 입력 3 \n",
    "1000 1 1000<br>\n",
    "999 1000\n",
    "## 예제 출력 3 \n",
    "1000 999<br>\n",
    "1000 999"
   ]
  },
  {
   "cell_type": "code",
   "execution_count": 7,
   "metadata": {},
   "outputs": [
    {
     "name": "stdout",
     "output_type": "stream",
     "text": [
      "4 5 1\n",
      "1 2\n",
      "1 3\n",
      "1 4\n",
      "2 4\n",
      "3 4\n",
      "1 2 4 3\n",
      "1 2 3 4\n"
     ]
    }
   ],
   "source": [
    "N, M, V = map(int, input().split())\n",
    "graph = [[0] * (N+1) for i in range(N+1)]\n",
    "for i in range(M):\n",
    "    nodes = list(map(int, input().split()))\n",
    "    graph[nodes[0]][nodes[1]] = 1\n",
    "    graph[nodes[1]][nodes[0]] = 1\n",
    "\n",
    "def dfs(V, visited = []):\n",
    "    visited.append(V)\n",
    "    for i in range(1,len(graph[V])):\n",
    "        if graph[V][i] == 1 and i not in visited:\n",
    "            dfs(i, visited)\n",
    "    return visited\n",
    "print(*dfs(V))    \n",
    "    \n",
    "    \n",
    "\n",
    "visited = [V]\n",
    "queue = [V]\n",
    "while queue:\n",
    "    start = queue.pop(0)\n",
    "    for i in range(1, N+1):\n",
    "        if graph[start][i] == 1 and i not in visited:\n",
    "            visited.append(i)\n",
    "            queue.append(i)\n",
    "print(*visited)\n",
    "    \n",
    "    "
   ]
  },
  {
   "cell_type": "code",
   "execution_count": null,
   "metadata": {},
   "outputs": [],
   "source": []
  }
 ],
 "metadata": {
  "kernelspec": {
   "display_name": "Python 3",
   "language": "python",
   "name": "python3"
  },
  "language_info": {
   "codemirror_mode": {
    "name": "ipython",
    "version": 3
   },
   "file_extension": ".py",
   "mimetype": "text/x-python",
   "name": "python",
   "nbconvert_exporter": "python",
   "pygments_lexer": "ipython3",
   "version": "3.8.3"
  }
 },
 "nbformat": 4,
 "nbformat_minor": 4
}
