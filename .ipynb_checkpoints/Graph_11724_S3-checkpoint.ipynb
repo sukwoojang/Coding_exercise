{
 "cells": [
  {
   "cell_type": "markdown",
   "metadata": {},
   "source": [
    "## 문제\n",
    "방향 없는 그래프가 주어졌을 때, 연결 요소 (Connected Component)의 개수를 구하는 프로그램을 작성하시오.\n",
    "\n",
    "## 입력\n",
    "첫째 줄에 정점의 개수 N과 간선의 개수 M이 주어진다. (1 ≤ N ≤ 1,000, 0 ≤ M ≤ N×(N-1)/2) 둘째 줄부터 M개의 줄에 간선의 양 끝점 u와 v가 주어진다. (1 ≤ u, v ≤ N, u ≠ v) 같은 간선은 한 번만 주어진다.\n",
    "\n",
    "## 출력\n",
    "첫째 줄에 연결 요소의 개수를 출력한다.\n",
    "\n",
    "## 예제 입력 1 \n",
    "6 5<br>\n",
    "1 2<br>\n",
    "2 5<br>\n",
    "5 1<br>\n",
    "3 4<br>\n",
    "4 6\n",
    "## 예제 출력 1 \n",
    "2\n",
    "## 예제 입력 2 \n",
    "6 8<br>\n",
    "1 2<br>\n",
    "2 5<br>\n",
    "5 1<br>\n",
    "3 4<br>\n",
    "4 6<br>\n",
    "5 4<br>\n",
    "2 4<br>\n",
    "2 3\n",
    "## 예제 출력 2 \n",
    "1"
   ]
  },
  {
   "cell_type": "code",
   "execution_count": 4,
   "metadata": {},
   "outputs": [
    {
     "name": "stdout",
     "output_type": "stream",
     "text": [
      "6 5\n",
      "1 2\n",
      "2 5\n",
      "5 1\n",
      "3 4\n",
      "4 6\n",
      "2\n"
     ]
    }
   ],
   "source": [
    "n, m = map(int,input().split())\n",
    "graph = dict()\n",
    "for i in range(1,n+1):\n",
    "    graph[i] = set()\n",
    "\n",
    "for _ in range(m):\n",
    "    u, v = map(int,input().split())\n",
    "    graph[u].add(v)\n",
    "    graph[v].add(u)\n",
    "    \n",
    "visited = set()\n",
    "\n",
    "def dfs(node):\n",
    "    if node in visited:\n",
    "        return False\n",
    "    else:\n",
    "        visited.add(node)\n",
    "        for adj in graph[node]:\n",
    "            if adj not in visited:\n",
    "                dfs(adj)\n",
    "        return True\n",
    "    \n",
    "cnt = 0\n",
    "for i in range(1,n+1):\n",
    "    if dfs(i) == True:\n",
    "        cnt += 1\n",
    "        \n",
    "print(cnt)\n",
    "                \n",
    "                "
   ]
  },
  {
   "cell_type": "code",
   "execution_count": null,
   "metadata": {},
   "outputs": [],
   "source": []
  }
 ],
 "metadata": {
  "kernelspec": {
   "display_name": "Python 3",
   "language": "python",
   "name": "python3"
  },
  "language_info": {
   "codemirror_mode": {
    "name": "ipython",
    "version": 3
   },
   "file_extension": ".py",
   "mimetype": "text/x-python",
   "name": "python",
   "nbconvert_exporter": "python",
   "pygments_lexer": "ipython3",
   "version": "3.8.3"
  }
 },
 "nbformat": 4,
 "nbformat_minor": 4
}
