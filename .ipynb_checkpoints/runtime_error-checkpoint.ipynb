{
 "cells": [
  {
   "cell_type": "markdown",
   "metadata": {},
   "source": [
    "## 런타임 에러 발생 이유\n",
    "* 배열에 할당된 크기를 넘어서 접근했을 때\n",
    "* 전역 배열의 크기가 메모리 제한을 초과할 때\n",
    "* 지역 배열의 크기가 스택 크기 제한을 넘어갈 때\n",
    "* 0으로 나눌 떄\n",
    "* 라이브러리에서 예외를 발생시켰을 때\n",
    "* 재귀 호출이 너무 깊어질 때\n",
    "* 이미 해제된 메모리를 또 참조할 때\n",
    "* 프로그램(main 함수)이 0이 아닌 수를 반환했을 때\n",
    "* C/C++에서 반환형이 void가 아닌 main이 아닌 함수에서 아무런 값을 반환하지 않았을 때\n",
    "\n",
    "<br>\n",
    "<br>\n",
    "\n",
    "* 백준에서 사용하는 각 언어의 컴파일러 / 실행옵션을 그대로 재현하면 버그 추적에 더 도움이 된다.\n",
    "https://www.acmicpc.net/help/language\n",
    "* 그 외 자주 틀리는 요인들.\n",
    "https://www.acmicpc.net/blog/view/70"
   ]
  },
  {
   "cell_type": "code",
   "execution_count": null,
   "metadata": {},
   "outputs": [],
   "source": []
  }
 ],
 "metadata": {
  "kernelspec": {
   "display_name": "Python 3",
   "language": "python",
   "name": "python3"
  },
  "language_info": {
   "codemirror_mode": {
    "name": "ipython",
    "version": 3
   },
   "file_extension": ".py",
   "mimetype": "text/x-python",
   "name": "python",
   "nbconvert_exporter": "python",
   "pygments_lexer": "ipython3",
   "version": "3.8.3"
  }
 },
 "nbformat": 4,
 "nbformat_minor": 4
}
